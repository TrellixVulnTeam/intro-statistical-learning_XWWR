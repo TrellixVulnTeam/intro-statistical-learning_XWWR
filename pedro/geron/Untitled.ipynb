{
 "cells": [
  {
   "cell_type": "code",
   "execution_count": 6,
   "metadata": {},
   "outputs": [],
   "source": [
    "def reverse_text(text):\n",
    "        print(text[::-1])"
   ]
  },
  {
   "cell_type": "code",
   "execution_count": 2,
   "metadata": {},
   "outputs": [
    {
     "ename": "SyntaxError",
     "evalue": "invalid syntax (<ipython-input-2-569bffcd2cea>, line 1)",
     "output_type": "error",
     "traceback": [
      "\u001b[0;36m  File \u001b[0;32m\"<ipython-input-2-569bffcd2cea>\"\u001b[0;36m, line \u001b[0;32m1\u001b[0m\n\u001b[0;31m    reverse_text(\")smarap ,)erocs_naem-(trqs.pn(tnirp ... :)]\"smarap\"[servc ,]\"erocs_tset_naem\"[servc(piz ni smarap ,erocs_naem rof >>> _stluser_vc.hcraes_dirg = servc\")\u001b[0m\n\u001b[0m                                                                   ^\u001b[0m\n\u001b[0;31mSyntaxError\u001b[0m\u001b[0;31m:\u001b[0m invalid syntax\n"
     ]
    }
   ],
   "source": [
    "reverse_text(\")smarap ,)erocs_naem-(trqs.pn(tnirp ... :)]\"smarap\"[servc ,]\"erocs_tset_naem\"[servc(piz ni smarap ,erocs_naem rof >>> _stluser_vc.hcraes_dirg = servc\")\n"
   ]
  },
  {
   "cell_type": "code",
   "execution_count": 19,
   "metadata": {},
   "outputs": [
    {
     "name": "stdout",
     "output_type": "stream",
     "text": [
      "class CombinedAttributesAdder(BaseEstimator, TransformerMixin): def __init__(self, add_bedrooms_per_room = True): # no *args or **kargs\n",
      "self.add_bedrooms_per_room = add_bedrooms_per_room def fit(self, X, y=None):\n",
      "return self # nothing else to do def transform(self, X, y=None):\n",
      "rooms_per_household = X[:, rooms_ix] / X[:, households_ix] population_per_household = X[:, population_ix] / X[:, households_ix] if self.add_bedrooms_per_room:\n",
      "bedrooms_per_room = X[:, bedrooms_ix] / X[:, rooms_ix] return np.c_[X, rooms_per_household, population_per_household, bedrooms_per_room]\n",
      "return np.c_[X, rooms_per_household, population_per_household] attr_adder = CombinedAttributesAdder(add_bedrooms_per_room=False)\n",
      "housing_extra_attribs = attr_adder.transform(housing.values)\n",
      "\n"
     ]
    }
   ],
   "source": [
    "text = \"\"\"\n",
    ")seulav.gnisuoh(mrofsnart.redda_rtta = sbirtta_artxe_gnisuoh\n",
    ")eslaF=moor_rep_smoordeb_dda(reddAsetubirttAdenibmoC = redda_rtta ]dlohesuoh_rep_noitalupop ,dlohesuoh_rep_smoor ,X[_c.pn nruter\n",
    "]moor_rep_smoordeb ,dlohesuoh_rep_noitalupop ,dlohesuoh_rep_smoor ,X[_c.pn nruter ]xi_smoor ,:[X / ]xi_smoordeb ,:[X = moor_rep_smoordeb\n",
    ":moor_rep_smoordeb_dda.fles fi ]xi_sdlohesuoh ,:[X / ]xi_noitalupop ,:[X = dlohesuoh_rep_noitalupop ]xi_sdlohesuoh ,:[X / ]xi_smoor ,:[X = dlohesuoh_rep_smoor\n",
    ":)enoN=y ,X ,fles(mrofsnart fed od ot esle gnihton # fles nruter\n",
    ":)enoN=y ,X ,fles(tif fed moor_rep_smoordeb_dda = moor_rep_smoordeb_dda.fles\n",
    "sgrak** ro sgra* on # :)eurT = moor_rep_smoordeb_dda ,fles(__tini__ fed :)nixiMremrofsnarT ,rotamitsEesaB(reddAsetubirttAdenibmoC ssalc\"\"\"\n",
    "                                                                                    \n",
    "reverse_text(text)\n",
    "                                                                                    "
   ]
  },
  {
   "cell_type": "code",
   "execution_count": 103,
   "metadata": {},
   "outputs": [],
   "source": [
    "def chars_unique(string):\n",
    "    vector = range(len(string))\n",
    "    for idx, char in enumerate(string):\n",
    "        new_vec = [x for x in vector if x != idx]\n",
    "        for i in new_vec:\n",
    "            if char == string[i]:\n",
    "                return False\n",
    "    return True\n",
    "\n",
    "\n"
   ]
  },
  {
   "cell_type": "code",
   "execution_count": 104,
   "metadata": {},
   "outputs": [
    {
     "data": {
      "text/plain": [
       "False"
      ]
     },
     "execution_count": 104,
     "metadata": {},
     "output_type": "execute_result"
    }
   ],
   "source": [
    "chars_unique('heloh')"
   ]
  },
  {
   "cell_type": "code",
   "execution_count": null,
   "metadata": {},
   "outputs": [],
   "source": []
  },
  {
   "cell_type": "code",
   "execution_count": 135,
   "metadata": {},
   "outputs": [],
   "source": [
    "def chars_unique_2(string):\n",
    "    for idx, char in enumerate(string):\n",
    "        for idx2, char2 in enumerate(string):\n",
    "            if idx != idx2:\n",
    "                if char == char2:\n",
    "                    return False\n",
    "    return True"
   ]
  },
  {
   "cell_type": "code",
   "execution_count": 138,
   "metadata": {},
   "outputs": [
    {
     "data": {
      "text/plain": [
       "True"
      ]
     },
     "execution_count": 138,
     "metadata": {},
     "output_type": "execute_result"
    }
   ],
   "source": [
    "chars_unique_2('abcde')"
   ]
  },
  {
   "cell_type": "code",
   "execution_count": 108,
   "metadata": {},
   "outputs": [
    {
     "name": "stdout",
     "output_type": "stream",
     "text": [
      "0 h\n",
      "1 e\n",
      "2 l\n",
      "3 l\n",
      "4 o\n"
     ]
    }
   ],
   "source": [
    "string='hello'\n",
    "for idx, char in enumerate(string):\n",
    "    print(idx,char)"
   ]
  },
  {
   "cell_type": "code",
   "execution_count": 122,
   "metadata": {},
   "outputs": [
    {
     "data": {
      "text/plain": [
       "'o'"
      ]
     },
     "execution_count": 122,
     "metadata": {},
     "output_type": "execute_result"
    }
   ],
   "source": [
    "string[-1]"
   ]
  },
  {
   "cell_type": "code",
   "execution_count": 140,
   "metadata": {},
   "outputs": [],
   "source": [
    "def chars_unique_3(string):\n",
    "    r = range(len(string))\n",
    "    for i in r:\n",
    "        for j in r:\n",
    "            if j>i:\n",
    "                if string[i]==string[j]:\n",
    "                    return False\n",
    "    return True"
   ]
  },
  {
   "cell_type": "code",
   "execution_count": 144,
   "metadata": {},
   "outputs": [
    {
     "data": {
      "text/plain": [
       "False"
      ]
     },
     "execution_count": 144,
     "metadata": {},
     "output_type": "execute_result"
    }
   ],
   "source": [
    "chars_unique_3('helol')"
   ]
  },
  {
   "cell_type": "code",
   "execution_count": 151,
   "metadata": {},
   "outputs": [],
   "source": [
    "def chars_unique_4(string):\n",
    "    l = len(string)\n",
    "    r = range(l)\n",
    "    for i in r:\n",
    "        for j in range(i+1,l):\n",
    "            if string[i]==string[j]:\n",
    "                return False\n",
    "    return True"
   ]
  },
  {
   "cell_type": "code",
   "execution_count": 153,
   "metadata": {},
   "outputs": [
    {
     "data": {
      "text/plain": [
       "False"
      ]
     },
     "execution_count": 153,
     "metadata": {},
     "output_type": "execute_result"
    }
   ],
   "source": [
    "chars_unique_4('hello')"
   ]
  },
  {
   "cell_type": "code",
   "execution_count": null,
   "metadata": {},
   "outputs": [],
   "source": []
  }
 ],
 "metadata": {
  "kernelspec": {
   "display_name": "Python 3",
   "language": "python",
   "name": "python3"
  },
  "language_info": {
   "codemirror_mode": {
    "name": "ipython",
    "version": 3
   },
   "file_extension": ".py",
   "mimetype": "text/x-python",
   "name": "python",
   "nbconvert_exporter": "python",
   "pygments_lexer": "ipython3",
   "version": "3.7.4"
  }
 },
 "nbformat": 4,
 "nbformat_minor": 4
}
